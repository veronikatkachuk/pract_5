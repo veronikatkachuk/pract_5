{
 "nbformat": 4,
 "nbformat_minor": 0,
 "metadata": {
  "colab": {
   "provenance": []
  },
  "kernelspec": {
   "name": "python3",
   "display_name": "Python 3 (ipykernel)",
   "language": "python"
  },
  "language_info": {
   "name": "python"
  }
 },
 "cells": [
  {
   "cell_type": "markdown",
   "source": [
    "# I. OOP"
   ],
   "metadata": {
    "id": "5qV_sehzFCTp"
   }
  },
  {
   "cell_type": "markdown",
   "source": [
    "1. (6б). Створіть клас Building, додайте три атрибути, один з яких має значення за замовчуванням та два методи на свій розсуд."
   ],
   "metadata": {
    "id": "tx_U_hOALyfg"
   }
  },
  {
   "cell_type": "code",
   "source": [
    "import math\n",
    "\n",
    "\n",
    "class Building:\n",
    "\n",
    "    def __init__(self, name: str, floors: int, address: str, _type: str = 'skyscraper'):\n",
    "        self.name = name\n",
    "        self.floors = floors\n",
    "        self.address = address\n",
    "        self._type = _type\n",
    "\n",
    "    def get_description(self) -> str:\n",
    "        return f'Building {self.name} ({self._type}) has {self.floors} floors and is located in {self.address}. The building is '\n",
    "\n",
    "    def get_height(self, floor_height=2.4) -> float:\n",
    "        return self.floors * floor_height"
   ],
   "metadata": {
    "id": "-Vf895KaL88N",
    "ExecuteTime": {
     "end_time": "2025-04-26T11:06:40.819872Z",
     "start_time": "2025-04-26T11:06:40.813739Z"
    }
   },
   "outputs": [],
   "execution_count": 4
  },
  {
   "cell_type": "markdown",
   "source": [
    "2. (2б). Створіть два обʼєкти цього класу, де один з обʼєктів створюється із дефолтним значенням атрибуту. На одному обʼєкті отримайте значення його атрибуту, а на іншому викличте один з його методів."
   ],
   "metadata": {
    "id": "X_UlOMB0L93w"
   }
  },
  {
   "cell_type": "code",
   "source": [
    "building1 = Building(name='Blabla Tower', floors=50, address='Kriblen Str, 121')\n",
    "building2 = Building(name='City Center', floors=10, address='Zulka Avenue, 15', _type='office')\n",
    "\n",
    "print(f'First building address: {building1.address}')\n",
    "print(f'Second building height: {building2.get_height()}')"
   ],
   "metadata": {
    "id": "7gBu0ESOMCpG",
    "ExecuteTime": {
     "end_time": "2025-04-26T11:06:40.840846Z",
     "start_time": "2025-04-26T11:06:40.835804Z"
    }
   },
   "outputs": [
    {
     "name": "stdout",
     "output_type": "stream",
     "text": [
      "First building address: Kriblen Str, 121\n",
      "Second building height: 24.0\n"
     ]
    }
   ],
   "execution_count": 5
  },
  {
   "cell_type": "markdown",
   "source": [
    "3. (5б). Створіть клас, де атрибути мають різні рівні доступу. Спробуйте отримати їхні значення та опишіть результати."
   ],
   "metadata": {
    "id": "HoqSCZt1MHn5"
   }
  },
  {
   "cell_type": "code",
   "source": [
    "class Berliberda:\n",
    "    attribute_aka_public: str = 'berliberda'\n",
    "    _attribute_aka_protected: float = 12.3\n",
    "    __attribute_aka_private: int = 1234567890\n",
    "\n",
    "\n",
    "example_object = Berliberda()\n",
    "print(example_object.attribute_aka_public)  # no problems\n",
    "print(example_object._attribute_aka_protected)  # accessible\n",
    "print(example_object.__attribute_aka_private)  # raises AttributeError"
   ],
   "metadata": {
    "id": "r9b3vJxBMSPV",
    "ExecuteTime": {
     "end_time": "2025-04-26T11:06:47.576931Z",
     "start_time": "2025-04-26T11:06:47.541679Z"
    }
   },
   "outputs": [
    {
     "name": "stdout",
     "output_type": "stream",
     "text": [
      "berliberda\n",
      "12.3\n"
     ]
    },
    {
     "ename": "AttributeError",
     "evalue": "'Berliberda' object has no attribute '__attribute_aka_private'",
     "output_type": "error",
     "traceback": [
      "\u001B[31m---------------------------------------------------------------------------\u001B[39m",
      "\u001B[31mAttributeError\u001B[39m                            Traceback (most recent call last)",
      "\u001B[36mCell\u001B[39m\u001B[36m \u001B[39m\u001B[32mIn[7]\u001B[39m\u001B[32m, line 10\u001B[39m\n\u001B[32m      8\u001B[39m \u001B[38;5;28mprint\u001B[39m(example_object.attribute_aka_public)  \u001B[38;5;66;03m# no problems\u001B[39;00m\n\u001B[32m      9\u001B[39m \u001B[38;5;28mprint\u001B[39m(example_object._attribute_aka_protected)  \u001B[38;5;66;03m# accessible\u001B[39;00m\n\u001B[32m---> \u001B[39m\u001B[32m10\u001B[39m \u001B[38;5;28mprint\u001B[39m(\u001B[43mexample_object\u001B[49m\u001B[43m.\u001B[49m\u001B[43m__attribute_aka_private\u001B[49m)  \u001B[38;5;66;03m# raises AttributeError\u001B[39;00m\n",
      "\u001B[31mAttributeError\u001B[39m: 'Berliberda' object has no attribute '__attribute_aka_private'"
     ]
    }
   ],
   "execution_count": 7
  },
  {
   "cell_type": "markdown",
   "source": [
    "4. (7б). Як ви розумієте термін self? Для чого використовується метод __init __?"
   ],
   "metadata": {
    "id": "5op2m2vgMSkZ"
   }
  },
  {
   "cell_type": "markdown",
   "source": "self - це посилання на екземпляр класу, що дозволяє звертатися до його атрибутів і методів. Метод __init__ використовується для ініціалізації (задає початкові значення атрибутів) об'єкта після його створення у методі __new__.",
   "metadata": {
    "id": "DyiPqNRvMasx"
   }
  },
  {
   "cell_type": "markdown",
   "source": [
    "5. (9б). Створіть клас 3D-фігура без атрибутів, з методом get_volume для отримання об'єму фігури, що повертає 0 та __add __, який приймає self та other в якості аргументів, а повертає суму об'ємів 3d-фігур self та other."
   ],
   "metadata": {
    "id": "-6X8EGfjMd2y"
   }
  },
  {
   "cell_type": "code",
   "source": [
    "class Figure3D:\n",
    "    def get_volume(self) -> float:\n",
    "        return 0.0\n",
    "\n",
    "    def __add__(self, other) -> float:\n",
    "        return self.get_volume() + other.get_volume()\n"
   ],
   "metadata": {
    "id": "4rvO_wYUMaEr",
    "ExecuteTime": {
     "end_time": "2025-04-26T11:06:40.918611Z",
     "start_time": "2025-04-23T19:47:45.585619Z"
    }
   },
   "outputs": [],
   "execution_count": 7
  },
  {
   "cell_type": "markdown",
   "source": [
    "6. (11б). Створіть 2 дочірніх класи від 3d-фігура: Циліндр та Куб, які мають атрибути, необхідні для розрахунку об'єму. Визначте метод get_volume в кожному з них так, щоби вони розраховували об'єм у залежності від формули для кожного типу фігури. Створіть обʼєкт класу Циліндр та обʼєкт класу Куб. Виконайте операцію суми за допомогою оператора + між ними, аби знайти сумарний об'єм."
   ],
   "metadata": {
    "id": "SFcKnnv5Mo_z"
   }
  },
  {
   "cell_type": "code",
   "source": [
    "import math\n",
    "\n",
    "\n",
    "class Cylinder(Figure3D):\n",
    "    def __init__(self, height: float, radius: float):\n",
    "        self.height = height\n",
    "        self.radius = radius\n",
    "\n",
    "    def get_volume(self) -> float:\n",
    "        return math.pi * self.height * self.radius ** 2\n",
    "\n",
    "\n",
    "class Cube(Figure3D):\n",
    "    def __init__(self, side: float):\n",
    "        self.side = side\n",
    "\n",
    "    def get_volume(self) -> float:\n",
    "        return self.side ** 3\n",
    "\n",
    "cylinder = Cylinder(height=10, radius=5)\n",
    "cube = Cube(side=10)\n",
    "print(f'Volume of compound figure: {cylinder + cube}')"
   ],
   "metadata": {
    "id": "H3GVNr69Muf3",
    "ExecuteTime": {
     "end_time": "2025-04-26T11:06:40.932255800Z",
     "start_time": "2025-04-23T19:48:55.046434Z"
    }
   },
   "outputs": [
    {
     "name": "stdout",
     "output_type": "stream",
     "text": [
      "Volume of compound figure: 1785.3981633974481\n"
     ]
    }
   ],
   "execution_count": 8
  },
  {
   "cell_type": "markdown",
   "source": [
    "7. (3б). Продемонструйте різницю між isinstance та issubclass."
   ],
   "metadata": {
    "id": "HCvR206YMvLK"
   }
  },
  {
   "cell_type": "code",
   "source": [
    "print(isinstance(cylinder, Figure3D))  # True\n",
    "print(isinstance(building1, Figure3D))  # False\n",
    "print(issubclass(Cylinder, Figure3D))  # True\n",
    "print(issubclass(Cylinder, Cube))  # False"
   ],
   "metadata": {
    "id": "L_V1bBvDM0GN",
    "ExecuteTime": {
     "end_time": "2025-04-26T11:06:40.933604200Z",
     "start_time": "2025-04-23T19:52:14.167304Z"
    }
   },
   "outputs": [
    {
     "name": "stdout",
     "output_type": "stream",
     "text": [
      "True\n",
      "False\n",
      "True\n",
      "False\n"
     ]
    }
   ],
   "execution_count": 12
  },
  {
   "cell_type": "markdown",
   "source": [
    "8. (13б). Створіть клас EWallet з приватними атрибутами balance та id. Реалізуйте методи поповнення та зняття коштів, забезпечивши належну інкапсуляцію. Підказка: використовуйте декоратори property та setter."
   ],
   "metadata": {
    "id": "jjsaBZ-iM0Qq"
   }
  },
  {
   "cell_type": "code",
   "source": [
    "class EWallet:\n",
    "    def __init__(self, _id: int):\n",
    "        self.__id = _id\n",
    "        self.__balance = 0.0\n",
    "\n",
    "    @property\n",
    "    def id(self) -> int:\n",
    "        return self.__id\n",
    "\n",
    "    @property\n",
    "    def balance(self) -> float:\n",
    "        return self.__balance\n",
    "\n",
    "    @balance.setter\n",
    "    def balance(self, value: float):\n",
    "        if value < 0:\n",
    "            raise ValueError('Balance cannot be negative')\n",
    "        self.__balance = value\n",
    "\n",
    "    def deposit(self, amount: float):\n",
    "        self.balance += amount\n",
    "        print(f'Deposited ${amount} to wallet {self.id} successfully')\n",
    "\n",
    "    def withdraw(self, amount: float):\n",
    "        if self.balance < amount:\n",
    "            raise ValueError(f'Not enough money in wallet {self.id}')\n",
    "        self.balance -= amount\n",
    "        print(f'Withdrawn ${amount} from wallet {self.id} successfully')\n",
    "\n",
    "wallet = EWallet(123456789)\n",
    "wallet.deposit(100)\n",
    "wallet.withdraw(65)\n",
    "print(f'Wallet current balance: ${wallet.balance}')\n",
    "try:\n",
    "    wallet.withdraw(100)\n",
    "except ValueError as e:\n",
    "    print(e)"
   ],
   "metadata": {
    "id": "xCvZ7lh8M7YA",
    "ExecuteTime": {
     "end_time": "2025-04-26T11:06:40.934609600Z",
     "start_time": "2025-04-23T20:22:14.673206Z"
    }
   },
   "outputs": [
    {
     "name": "stdout",
     "output_type": "stream",
     "text": [
      "Deposited $100 to wallet 123456789 successfully\n",
      "Withdrawn $65 from wallet 123456789 successfully\n",
      "Wallet current balance: $35.0\n",
      "Not enough money in wallet 123456789\n"
     ]
    }
   ],
   "execution_count": 16
  },
  {
   "cell_type": "markdown",
   "source": [
    "9. (11б). Створіть клас ShoppingCart, який містить список об'єктів типу Item. Реалізуйте методи для додавання айтемів, їх видалення та відображення списку айтемів."
   ],
   "metadata": {
    "id": "tIzL2SJTM8ft"
   }
  },
  {
   "cell_type": "code",
   "source": [
    "class Item:\n",
    "    def __init__(self, name: str, price: float):\n",
    "        self.__price = 0\n",
    "        self.name = name\n",
    "        self.price = price\n",
    "\n",
    "    @property\n",
    "    def price(self):\n",
    "        return self.__price\n",
    "\n",
    "    @price.setter\n",
    "    def price(self, value):\n",
    "        if value < 0:\n",
    "            raise ValueError('Price cannot be negative')\n",
    "        self.__price = value\n",
    "\n",
    "\n",
    "class ShoppingCart:\n",
    "    def __init__(self):\n",
    "        self.items = []\n",
    "\n",
    "    def add_item(self, item: Item):\n",
    "        self.items.append(item)\n",
    "        print(f'{item.name} added to the cart')\n",
    "\n",
    "    def remove_item(self, item: Item):\n",
    "        self.items.remove(item)\n",
    "\n",
    "    def remove_item_by_name(self, name: str):\n",
    "        found_item = next(filter(lambda x: x.name == name, self.items), None)\n",
    "        if found_item:\n",
    "            self.items.remove(found_item)\n",
    "            print(f'Item with name {name} removed')\n",
    "        else:\n",
    "            print(f'Item with name {name} not found')\n",
    "\n",
    "    def show_items(self):\n",
    "        print(\"Items in your cart:\")\n",
    "        if not self.items:\n",
    "            print(' - Cart is empty')\n",
    "            return\n",
    "        for item in self.items:\n",
    "            print(f' - {item.name}: ${item.price}')\n",
    "\n",
    "    def calculate_total_price(self) -> float:\n",
    "        return sum([item.price for item in self.items])\n",
    "\n",
    "    def show_total_price(self):\n",
    "        print(f'Total price: ${self.calculate_total_price()}')\n",
    "\n",
    "shopping_cart = ShoppingCart()\n",
    "print('Shopping cart created')\n",
    "shopping_cart.show_items()\n",
    "item1 = Item('Apple', 10)\n",
    "item2 = Item('Banana', 5)\n",
    "item3 = Item('Orange', 15)\n",
    "shopping_cart.add_item(item1)\n",
    "shopping_cart.add_item(item2)\n",
    "shopping_cart.add_item(item3)\n",
    "shopping_cart.show_items()\n",
    "shopping_cart.show_total_price()\n",
    "shopping_cart.remove_item_by_name('Banana')\n",
    "shopping_cart.show_items()\n",
    "shopping_cart.show_total_price()"
   ],
   "metadata": {
    "id": "HWxfJKLtNAUZ",
    "ExecuteTime": {
     "end_time": "2025-04-26T11:06:40.935612800Z",
     "start_time": "2025-04-23T20:50:12.582990Z"
    }
   },
   "outputs": [
    {
     "name": "stdout",
     "output_type": "stream",
     "text": [
      "Shopping cart created\n",
      "Items in your cart:\n",
      " - Cart is empty\n",
      "Apple added to the cart\n",
      "Banana added to the cart\n",
      "Orange added to the cart\n",
      "Items in your cart:\n",
      " - Apple: $10\n",
      " - Banana: $5\n",
      " - Orange: $15\n",
      "Total price: $30\n",
      "Item with name Banana removed\n",
      "Items in your cart:\n",
      " - Apple: $10\n",
      " - Orange: $15\n",
      "Total price: $25\n"
     ]
    }
   ],
   "execution_count": 22
  },
  {
   "cell_type": "markdown",
   "source": [
    "10. (13б). Створіть клас Vehicle з атрибутами brand (manufacturer) та production_age. Створіть ще один клас Engine з такими атрибутами, як type (ex. petrol) та size (volume, litres). Створіть клас Car, який успадковує обидва класи Vehicle та Engine. Продемонструйте використання множинної спадковості, створивши обʼєкт класу Car та отримавши mro для цього класу."
   ],
   "metadata": {
    "id": "lmV8pAwwNIqu"
   }
  },
  {
   "cell_type": "code",
   "source": [
    "class Vehicle:\n",
    "    def __init__(self, brand: str, production_age: int):\n",
    "        self.brand = brand\n",
    "        self.production_age = production_age\n",
    "\n",
    "\n",
    "class Engine:\n",
    "    def __init__(self, _type: str, size: float):\n",
    "        self._type = _type\n",
    "        self.size = size\n",
    "\n",
    "class Car(Vehicle, Engine):\n",
    "    def __init__(self, brand: str, production_age: int, _type: str, size: float):\n",
    "        super().__init__(brand, production_age)  # calls Vehicle's __init__ method\n",
    "        # ^ we can replace this line with >>> Vehicle.__init__(self, brand, production_age)\n",
    "        super(Vehicle, self).__init__(_type, size)  # calls Engine's __init__ method, because search started from Vehicle\n",
    "        # ^ we can replace this line with >>> Engine.__init__(self, _type, size)\n",
    "\n",
    "    def __str__(self):\n",
    "        return f'Car: {self.brand} {self.production_age} years old, {self._type} engine, {self.size} liters'\n",
    "\n",
    "car = Car('Toyota', 2000, 'petrol', 1.5)\n",
    "print(car)\n",
    "print(Car.mro())"
   ],
   "metadata": {
    "id": "R49grKlWNPeN",
    "ExecuteTime": {
     "end_time": "2025-04-26T11:06:40.939050500Z",
     "start_time": "2025-04-23T21:37:54.105639Z"
    }
   },
   "outputs": [
    {
     "name": "stdout",
     "output_type": "stream",
     "text": [
      "Car: Toyota 2000 years old, petrol engine, 1.5 liters\n",
      "[<class '__main__.Car'>, <class '__main__.Vehicle'>, <class '__main__.Engine'>, <class 'object'>]\n"
     ]
    }
   ],
   "execution_count": 40
  },
  {
   "cell_type": "markdown",
   "source": [
    "# II. Iterator"
   ],
   "metadata": {
    "id": "dIJyUiNBFG8G"
   }
  },
  {
   "cell_type": "markdown",
   "source": [
    "11. (4б). Визначте рядок(str) з 4ма різними за значенням символами. Створіть ітератор на основі цього рядка. Викличте 5 разів функцію next на ітераторі, 4ри перших з них огорніть у ф-цію print()."
   ],
   "metadata": {
    "id": "13vsm0NyKIzL"
   }
  },
  {
   "cell_type": "code",
   "source": [
    "example_str = 'abcd'\n",
    "example_iterator = iter(example_str)\n",
    "for _ in range(5):\n",
    "    print(next(example_iterator))\n",
    "next(example_iterator)"
   ],
   "metadata": {
    "id": "81ntabAkKuz-",
    "ExecuteTime": {
     "end_time": "2025-04-26T11:06:40.940216500Z",
     "start_time": "2025-04-23T21:41:55.807371Z"
    }
   },
   "outputs": [
    {
     "name": "stdout",
     "output_type": "stream",
     "text": [
      "a\n",
      "b\n",
      "c\n",
      "d\n"
     ]
    },
    {
     "ename": "StopIteration",
     "evalue": "",
     "output_type": "error",
     "traceback": [
      "\u001B[31m---------------------------------------------------------------------------\u001B[39m",
      "\u001B[31mStopIteration\u001B[39m                             Traceback (most recent call last)",
      "\u001B[36mCell\u001B[39m\u001B[36m \u001B[39m\u001B[32mIn[41]\u001B[39m\u001B[32m, line 4\u001B[39m\n\u001B[32m      2\u001B[39m example_iterator = \u001B[38;5;28miter\u001B[39m(example_str)\n\u001B[32m      3\u001B[39m \u001B[38;5;28;01mfor\u001B[39;00m _ \u001B[38;5;129;01min\u001B[39;00m \u001B[38;5;28mrange\u001B[39m(\u001B[32m5\u001B[39m):\n\u001B[32m----> \u001B[39m\u001B[32m4\u001B[39m     \u001B[38;5;28mprint\u001B[39m(\u001B[38;5;28;43mnext\u001B[39;49m\u001B[43m(\u001B[49m\u001B[43mexample_iterator\u001B[49m\u001B[43m)\u001B[49m)\n\u001B[32m      5\u001B[39m \u001B[38;5;28mnext\u001B[39m(example_iterator)\n",
      "\u001B[31mStopIteration\u001B[39m: "
     ]
    }
   ],
   "execution_count": 41
  },
  {
   "cell_type": "markdown",
   "source": [
    "А що якщо викликати цю ж функцію на рядку?"
   ],
   "metadata": {
    "id": "aekWHGXOLRsO"
   }
  },
  {
   "cell_type": "code",
   "source": "next(example_str)",
   "metadata": {
    "id": "mxATGsErLV1i",
    "ExecuteTime": {
     "end_time": "2025-04-26T11:06:40.941222200Z",
     "start_time": "2025-04-23T21:42:28.935940Z"
    }
   },
   "outputs": [
    {
     "ename": "TypeError",
     "evalue": "'str' object is not an iterator",
     "output_type": "error",
     "traceback": [
      "\u001B[31m---------------------------------------------------------------------------\u001B[39m",
      "\u001B[31mTypeError\u001B[39m                                 Traceback (most recent call last)",
      "\u001B[36mCell\u001B[39m\u001B[36m \u001B[39m\u001B[32mIn[42]\u001B[39m\u001B[32m, line 1\u001B[39m\n\u001B[32m----> \u001B[39m\u001B[32m1\u001B[39m \u001B[38;5;28;43mnext\u001B[39;49m\u001B[43m(\u001B[49m\u001B[43mexample_str\u001B[49m\u001B[43m)\u001B[49m\n",
      "\u001B[31mTypeError\u001B[39m: 'str' object is not an iterator"
     ]
    }
   ],
   "execution_count": 42
  },
  {
   "cell_type": "markdown",
   "source": [
    " 12. (5б). Опишіть своїми словами в одному реченні, як ви розумієте різницю між ітерабельними обʼєктами та ітераторами (можна на прикладі)."
   ],
   "metadata": {
    "id": "XwtMEopwJ4pH"
   }
  },
  {
   "cell_type": "markdown",
   "source": "Ітерабельний об'єкт — це той, по якому можна пройтися циклом (наприклад, list), а ітератор — це об'єкт, який пам'ятає свою позицію під час обходу і повертає елементи один за одним за допомогою next(). Ітератор також є ітерабельним об'єктом (метод iter повертає сам ітератор), а от не кожен ітерабельний об'єкт є ітератором (наприклад, у списку list не можна викликати next без попереднього перетворення через iter).",
   "metadata": {
    "id": "-sHrODc3KFn8"
   }
  },
  {
   "cell_type": "markdown",
   "source": [
    "13. (11б). Створіть клас, що має визначений Iterator Protocol та при кожному виклику next повертає назву дня тижня, поки вони не вичерпаються. Зверніть увагу, що порядок має значення."
   ],
   "metadata": {
    "id": "E9qJWmNbK8Gl"
   }
  },
  {
   "cell_type": "code",
   "source": [
    "class DayIterator:\n",
    "    def __init__(self):\n",
    "        self.days = ['Monday', 'Tuesday', 'Wednesday', 'Thursday', 'Friday', 'Saturday', 'Sunday']\n",
    "        self.index = 0\n",
    "\n",
    "    def __next__(self):\n",
    "        if self.index >= len(self.days):\n",
    "            raise StopIteration\n",
    "        day = self.days[self.index]\n",
    "        self.index += 1\n",
    "        return day\n",
    "    def __iter__(self):\n",
    "        return self\n",
    "\n",
    "day_iterator = DayIterator()\n",
    "for day in day_iterator:\n",
    "    print(day)"
   ],
   "metadata": {
    "id": "cqx-g_RsLo6I",
    "ExecuteTime": {
     "end_time": "2025-04-26T11:06:40.941222200Z",
     "start_time": "2025-04-23T21:44:13.104469Z"
    }
   },
   "outputs": [
    {
     "name": "stdout",
     "output_type": "stream",
     "text": [
      "Monday\n",
      "Tuesday\n",
      "Wednesday\n",
      "Thursday\n",
      "Friday\n",
      "Saturday\n",
      "Sunday\n"
     ]
    }
   ],
   "execution_count": 43
  },
  {
   "cell_type": "markdown",
   "source": [
    "# Вітаю! Ви велика(ий) молодець, що впоралась(вся). Похваліть себе та побалуйте чимось приємним. Я Вами пишаюся."
   ],
   "metadata": {
    "id": "Z3E3S_s1Fv7-"
   }
  }
 ]
}
